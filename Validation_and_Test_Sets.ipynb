{
  "cells": [
    {
      "cell_type": "markdown",
      "metadata": {
        "id": "4f3CKqFUqL2-"
      },
      "source": [
        "# Validation Sets and Test Sets\n",
        "\n",
        "The previous Colab exercises evaluated the trained model against the training set, which does not provide a strong signal about the quality of your model. In this Colab, you'll experiment with validation sets and test sets.\n",
        "\n",
        "\n",
        "\n",
        "\n"
      ]
    },
    {
      "cell_type": "markdown",
      "metadata": {
        "id": "3spZH_kNkWWX"
      },
      "source": [
        "## Learning objectives\n",
        "\n",
        "After doing this Colab, you'll know how to do the following:\n",
        "\n",
        "  * Split a [training set](https://developers.google.com/machine-learning/glossary/#training_set) into a smaller training set and a [validation set](https://developers.google.com/machine-learning/glossary/#validation_set).\n",
        "  * Analyze deltas between training set and validation set results.\n",
        "  * Test the trained model with a [test set](https://developers.google.com/machine-learning/glossary/#test_set) to determine whether your trained model is [overfitting](https://developers.google.com/machine-learning/glossary/#overfitting).\n",
        "  * Detect and fix a common training problem."
      ]
    },
    {
      "cell_type": "markdown",
      "metadata": {
        "id": "gV82DJO3kWpk"
      },
      "source": [
        "## The dataset\n",
        "\n",
        "As in the previous exercise, this exercise uses the [California Housing dataset](https://developers.google.com/machine-learning/crash-course/california-housing-data-description) to predict the `median_house_value` at the city block level.  Like many \"famous\" datasets, the California Housing Dataset actually consists of two separate datasets, each living in separate .csv files:\n",
        "\n",
        "* The training set is in `california_housing_train.csv`.\n",
        "* The test set is in `california_housing_test.csv`.\n",
        "\n",
        "You'll create the validation set by dividing the downloaded training set into two parts:\n",
        "\n",
        "* a smaller training set  \n",
        "* a validation set"
      ]
    },
    {
      "cell_type": "markdown",
      "metadata": {
        "id": "S8gm6BpqRRuh"
      },
      "source": [
        "## Import relevant modules\n",
        "\n",
        "This first code cell imports the necessary modules and sets a few display options."
      ]
    },
    {
      "cell_type": "code",
      "execution_count": 1,
      "metadata": {
        "cellView": "form",
        "id": "9D8GgUovHbG0"
      },
      "outputs": [],
      "source": [
        "#@title Import modules\n",
        "import numpy as np\n",
        "import pandas as pd\n",
        "import tensorflow as tf\n",
        "from matplotlib import pyplot as plt\n",
        "\n",
        "pd.options.display.max_rows = 10\n",
        "pd.options.display.float_format = \"{:.1f}\".format"
      ]
    },
    {
      "cell_type": "markdown",
      "metadata": {
        "id": "xjvrrClQeAJu"
      },
      "source": [
        "## Load the datasets from the internet\n",
        "\n",
        "The following code cell loads the separate .csv files and creates the following two pandas DataFrames:\n",
        "\n",
        "* `train_df`, which contains the training set.\n",
        "* `test_df`, which contains the test set.\n",
        "\n"
      ]
    },
    {
      "cell_type": "code",
      "execution_count": 2,
      "metadata": {
        "id": "zUnTc_wfd_o3"
      },
      "outputs": [],
      "source": [
        "train_df = pd.read_csv(\"https://download.mlcc.google.com/mledu-datasets/california_housing_train.csv\")\n",
        "test_df = pd.read_csv(\"https://download.mlcc.google.com/mledu-datasets/california_housing_test.csv\")"
      ]
    },
    {
      "cell_type": "markdown",
      "metadata": {
        "id": "P_KBdj2M_yjM"
      },
      "source": [
        "## Scale the label values\n",
        "\n",
        "The following code cell scales the `median_house_value`.\n",
        "See the previous Colab exercise for details."
      ]
    },
    {
      "cell_type": "code",
      "execution_count": 3,
      "metadata": {
        "id": "3hc7QQhaAFXD"
      },
      "outputs": [],
      "source": [
        "scale_factor = 1000.0\n",
        "\n",
        "# Scale the training set's label.\n",
        "train_df[\"median_house_value\"] /= scale_factor\n",
        "\n",
        "# Scale the test set's label\n",
        "test_df[\"median_house_value\"] /= scale_factor"
      ]
    },
    {
      "cell_type": "markdown",
      "metadata": {
        "id": "FhessIIV8VPc"
      },
      "source": [
        "## Load the functions that build and train a model\n",
        "\n",
        "The following code cell defines two functions:\n",
        "\n",
        "  * `build_model`, which defines the model's topography.\n",
        "  * `train_model`, which will ultimately train the model, outputting not only the loss value for the training set but also the loss value for the validation set.\n",
        "\n"
      ]
    },
    {
      "cell_type": "code",
      "execution_count": 4,
      "metadata": {
        "cellView": "form",
        "id": "bvonhK857msj"
      },
      "outputs": [
        {
          "name": "stdout",
          "output_type": "stream",
          "text": [
            "Defined the build_model and train_model functions.\n"
          ]
        }
      ],
      "source": [
        "#@title Define the functions that build and train a model\n",
        "def build_model(my_learning_rate):\n",
        "  \"\"\"Create and compile a simple linear regression model.\"\"\"\n",
        "  # Most simple tf.keras models are sequential.\n",
        "  model = tf.keras.models.Sequential()\n",
        "\n",
        "  # Add one linear layer to the model to yield a simple linear regressor.\n",
        "  model.add(tf.keras.layers.Dense(units=1, input_shape=(1,)))\n",
        "\n",
        "  # Compile the model topography into code that TensorFlow can efficiently\n",
        "  # execute. Configure training to minimize the model's mean squared error.\n",
        "  model.compile(optimizer=tf.keras.optimizers.experimental.RMSprop(learning_rate=my_learning_rate),\n",
        "                loss=\"mean_squared_error\",\n",
        "                metrics=[tf.keras.metrics.RootMeanSquaredError()])\n",
        "\n",
        "  return model\n",
        "\n",
        "\n",
        "def train_model(model, df, feature, label, my_epochs,\n",
        "                my_batch_size=None, my_validation_split=0.1):\n",
        "  \"\"\"Feed a dataset into the model in order to train it.\"\"\"\n",
        "\n",
        "  history = model.fit(x=df[feature],\n",
        "                      y=df[label],\n",
        "                      batch_size=my_batch_size,\n",
        "                      epochs=my_epochs,\n",
        "                      validation_split=my_validation_split)\n",
        "\n",
        "  # Gather the model's trained weight and bias.\n",
        "  trained_weight = model.get_weights()[0][0]\n",
        "  trained_bias = model.get_weights()[1]\n",
        "\n",
        "  # The list of epochs is stored separately from the\n",
        "  # rest of history.\n",
        "  epochs = history.epoch\n",
        "\n",
        "  # Isolate the root mean squared error for each epoch.\n",
        "  hist = pd.DataFrame(history.history)\n",
        "  rmse = hist[\"root_mean_squared_error\"]\n",
        "\n",
        "  return epochs, rmse, history.history\n",
        "\n",
        "print(\"Defined the build_model and train_model functions.\")"
      ]
    },
    {
      "cell_type": "markdown",
      "metadata": {
        "id": "8gRu4Ri0D8tH"
      },
      "source": [
        "## Define plotting functions\n",
        "\n",
        "The `plot_the_loss_curve` function plots loss vs. epochs for both the training set and the validation set."
      ]
    },
    {
      "cell_type": "code",
      "execution_count": 5,
      "metadata": {
        "cellView": "form",
        "id": "QA7hsqPZDvVM"
      },
      "outputs": [
        {
          "name": "stdout",
          "output_type": "stream",
          "text": [
            "Defined the plot_the_loss_curve function.\n"
          ]
        }
      ],
      "source": [
        "#@title Define the plotting function\n",
        "\n",
        "def plot_the_loss_curve(epochs, mae_training, mae_validation):\n",
        "  \"\"\"Plot a curve of loss vs. epoch.\"\"\"\n",
        "\n",
        "  plt.figure()\n",
        "  plt.xlabel(\"Epoch\")\n",
        "  plt.ylabel(\"Root Mean Squared Error\")\n",
        "\n",
        "  plt.plot(epochs[1:], mae_training[1:], label=\"Training Loss\")\n",
        "  plt.plot(epochs[1:], mae_validation[1:], label=\"Validation Loss\")\n",
        "  plt.legend()\n",
        "\n",
        "  # We're not going to plot the first epoch, since the loss on the first epoch\n",
        "  # is often substantially greater than the loss for other epochs.\n",
        "  merged_mae_lists = mae_training[1:] + mae_validation[1:]\n",
        "  highest_loss = max(merged_mae_lists)\n",
        "  lowest_loss = min(merged_mae_lists)\n",
        "  delta = highest_loss - lowest_loss\n",
        "  print(delta)\n",
        "\n",
        "  top_of_y_axis = highest_loss + (delta * 0.05)\n",
        "  bottom_of_y_axis = lowest_loss - (delta * 0.05)\n",
        "\n",
        "  plt.ylim([bottom_of_y_axis, top_of_y_axis])\n",
        "  plt.show()\n",
        "\n",
        "print(\"Defined the plot_the_loss_curve function.\")"
      ]
    },
    {
      "cell_type": "markdown",
      "metadata": {
        "id": "jipBqEQXlsN8"
      },
      "source": [
        "## Task 1: Experiment with the validation split\n",
        "\n",
        "In the following code cell, you'll see a variable named `validation_split`, which we've initialized at 0.2.  The `validation_split` variable specifies the proportion of the original training set that will serve as the validation set. The original training set contains 17,000 examples. Therefore, a `validation_split` of 0.2 means that:\n",
        "\n",
        "* 17,000 * 0.2 ~= 3,400 examples will become the validation set.\n",
        "* 17,000 * 0.8 ~= 13,600 examples will become the new training set.\n",
        "\n",
        "The following code builds a model, trains it on the training set, and evaluates the built model on both:\n",
        "\n",
        "* The training set.\n",
        "* And the validation set.\n",
        "\n",
        "If the data in the training set is similar to the data in the validation set, then the two loss curves and the final loss values should be almost identical. However, the loss curves and final loss values are **not** almost identical. Hmm, that's odd.  \n",
        "\n",
        "Experiment with two or three different values of `validation_split`.  Do different values of `validation_split` fix the problem?\n"
      ]
    },
    {
      "cell_type": "code",
      "execution_count": 8,
      "metadata": {},
      "outputs": [
        {
          "name": "stderr",
          "output_type": "stream",
          "text": [
            "d:\\PROJECTS\\Personal Projects\\personal_projects\\personal_projects\\.conda\\Lib\\site-packages\\keras\\src\\layers\\core\\dense.py:87: UserWarning: Do not pass an `input_shape`/`input_dim` argument to a layer. When using Sequential models, prefer using an `Input(shape)` object as the first layer in the model instead.\n",
            "  super().__init__(activity_regularizer=activity_regularizer, **kwargs)\n"
          ]
        },
        {
          "name": "stdout",
          "output_type": "stream",
          "text": [
            "Epoch 1/30\n",
            "\u001b[1m136/136\u001b[0m \u001b[32m━━━━━━━━━━━━━━━━━━━━\u001b[0m\u001b[37m\u001b[0m \u001b[1m4s\u001b[0m 20ms/step - loss: 42084.3008 - root_mean_squared_error: 205.0000 - val_loss: 45243.8711 - val_root_mean_squared_error: 212.7061\n",
            "Epoch 2/30\n",
            "\u001b[1m136/136\u001b[0m \u001b[32m━━━━━━━━━━━━━━━━━━━━\u001b[0m\u001b[37m\u001b[0m \u001b[1m1s\u001b[0m 6ms/step - loss: 24629.9258 - root_mean_squared_error: 156.7939 - val_loss: 26137.9355 - val_root_mean_squared_error: 161.6723\n",
            "Epoch 3/30\n",
            "\u001b[1m136/136\u001b[0m \u001b[32m━━━━━━━━━━━━━━━━━━━━\u001b[0m\u001b[37m\u001b[0m \u001b[1m1s\u001b[0m 7ms/step - loss: 12994.2930 - root_mean_squared_error: 113.8915 - val_loss: 14143.0410 - val_root_mean_squared_error: 118.9245\n",
            "Epoch 4/30\n",
            "\u001b[1m136/136\u001b[0m \u001b[32m━━━━━━━━━━━━━━━━━━━━\u001b[0m\u001b[37m\u001b[0m \u001b[1m1s\u001b[0m 6ms/step - loss: 7479.9043 - root_mean_squared_error: 86.4590 - val_loss: 9448.4053 - val_root_mean_squared_error: 97.2029\n",
            "Epoch 5/30\n",
            "\u001b[1m136/136\u001b[0m \u001b[32m━━━━━━━━━━━━━━━━━━━━\u001b[0m\u001b[37m\u001b[0m \u001b[1m1s\u001b[0m 6ms/step - loss: 6439.7310 - root_mean_squared_error: 80.2379 - val_loss: 9297.7002 - val_root_mean_squared_error: 96.4246\n",
            "Epoch 6/30\n",
            "\u001b[1m136/136\u001b[0m \u001b[32m━━━━━━━━━━━━━━━━━━━━\u001b[0m\u001b[37m\u001b[0m \u001b[1m1s\u001b[0m 8ms/step - loss: 6534.4292 - root_mean_squared_error: 80.8312 - val_loss: 9372.0273 - val_root_mean_squared_error: 96.8092\n",
            "Epoch 7/30\n",
            "\u001b[1m136/136\u001b[0m \u001b[32m━━━━━━━━━━━━━━━━━━━━\u001b[0m\u001b[37m\u001b[0m \u001b[1m1s\u001b[0m 5ms/step - loss: 6407.5815 - root_mean_squared_error: 80.0380 - val_loss: 9242.0322 - val_root_mean_squared_error: 96.1355\n",
            "Epoch 8/30\n",
            "\u001b[1m136/136\u001b[0m \u001b[32m━━━━━━━━━━━━━━━━━━━━\u001b[0m\u001b[37m\u001b[0m \u001b[1m1s\u001b[0m 6ms/step - loss: 6551.9800 - root_mean_squared_error: 80.9418 - val_loss: 9177.6162 - val_root_mean_squared_error: 95.7999\n",
            "Epoch 9/30\n",
            "\u001b[1m136/136\u001b[0m \u001b[32m━━━━━━━━━━━━━━━━━━━━\u001b[0m\u001b[37m\u001b[0m \u001b[1m1s\u001b[0m 5ms/step - loss: 6419.3320 - root_mean_squared_error: 80.1160 - val_loss: 9250.9590 - val_root_mean_squared_error: 96.1819\n",
            "Epoch 10/30\n",
            "\u001b[1m136/136\u001b[0m \u001b[32m━━━━━━━━━━━━━━━━━━━━\u001b[0m\u001b[37m\u001b[0m \u001b[1m1s\u001b[0m 5ms/step - loss: 6420.8174 - root_mean_squared_error: 80.1207 - val_loss: 9230.4131 - val_root_mean_squared_error: 96.0750\n",
            "Epoch 11/30\n",
            "\u001b[1m136/136\u001b[0m \u001b[32m━━━━━━━━━━━━━━━━━━━━\u001b[0m\u001b[37m\u001b[0m \u001b[1m1s\u001b[0m 5ms/step - loss: 6602.5278 - root_mean_squared_error: 81.2535 - val_loss: 9284.6201 - val_root_mean_squared_error: 96.3567\n",
            "Epoch 12/30\n",
            "\u001b[1m136/136\u001b[0m \u001b[32m━━━━━━━━━━━━━━━━━━━━\u001b[0m\u001b[37m\u001b[0m \u001b[1m1s\u001b[0m 4ms/step - loss: 6307.8154 - root_mean_squared_error: 79.4005 - val_loss: 9191.8008 - val_root_mean_squared_error: 95.8739\n",
            "Epoch 13/30\n",
            "\u001b[1m136/136\u001b[0m \u001b[32m━━━━━━━━━━━━━━━━━━━━\u001b[0m\u001b[37m\u001b[0m \u001b[1m1s\u001b[0m 4ms/step - loss: 6539.4653 - root_mean_squared_error: 80.8512 - val_loss: 9215.7666 - val_root_mean_squared_error: 95.9988\n",
            "Epoch 14/30\n",
            "\u001b[1m136/136\u001b[0m \u001b[32m━━━━━━━━━━━━━━━━━━━━\u001b[0m\u001b[37m\u001b[0m \u001b[1m1s\u001b[0m 4ms/step - loss: 6619.7769 - root_mean_squared_error: 81.3554 - val_loss: 9255.0508 - val_root_mean_squared_error: 96.2032\n",
            "Epoch 15/30\n",
            "\u001b[1m136/136\u001b[0m \u001b[32m━━━━━━━━━━━━━━━━━━━━\u001b[0m\u001b[37m\u001b[0m \u001b[1m1s\u001b[0m 5ms/step - loss: 6603.1758 - root_mean_squared_error: 81.2441 - val_loss: 9198.2637 - val_root_mean_squared_error: 95.9076\n",
            "Epoch 16/30\n",
            "\u001b[1m136/136\u001b[0m \u001b[32m━━━━━━━━━━━━━━━━━━━━\u001b[0m\u001b[37m\u001b[0m \u001b[1m1s\u001b[0m 4ms/step - loss: 6528.0586 - root_mean_squared_error: 80.7862 - val_loss: 9191.5205 - val_root_mean_squared_error: 95.8724\n",
            "Epoch 17/30\n",
            "\u001b[1m136/136\u001b[0m \u001b[32m━━━━━━━━━━━━━━━━━━━━\u001b[0m\u001b[37m\u001b[0m \u001b[1m1s\u001b[0m 4ms/step - loss: 6498.6362 - root_mean_squared_error: 80.5965 - val_loss: 9347.2959 - val_root_mean_squared_error: 96.6814\n",
            "Epoch 18/30\n",
            "\u001b[1m136/136\u001b[0m \u001b[32m━━━━━━━━━━━━━━━━━━━━\u001b[0m\u001b[37m\u001b[0m \u001b[1m1s\u001b[0m 5ms/step - loss: 6296.9829 - root_mean_squared_error: 79.3071 - val_loss: 9141.1143 - val_root_mean_squared_error: 95.6092\n",
            "Epoch 19/30\n",
            "\u001b[1m136/136\u001b[0m \u001b[32m━━━━━━━━━━━━━━━━━━━━\u001b[0m\u001b[37m\u001b[0m \u001b[1m1s\u001b[0m 5ms/step - loss: 6436.0439 - root_mean_squared_error: 80.2081 - val_loss: 9278.4111 - val_root_mean_squared_error: 96.3245\n",
            "Epoch 20/30\n",
            "\u001b[1m136/136\u001b[0m \u001b[32m━━━━━━━━━━━━━━━━━━━━\u001b[0m\u001b[37m\u001b[0m \u001b[1m1s\u001b[0m 5ms/step - loss: 6670.0786 - root_mean_squared_error: 81.6547 - val_loss: 9302.5518 - val_root_mean_squared_error: 96.4497\n",
            "Epoch 21/30\n",
            "\u001b[1m136/136\u001b[0m \u001b[32m━━━━━━━━━━━━━━━━━━━━\u001b[0m\u001b[37m\u001b[0m \u001b[1m1s\u001b[0m 5ms/step - loss: 6597.8340 - root_mean_squared_error: 81.2162 - val_loss: 9252.9678 - val_root_mean_squared_error: 96.1923\n",
            "Epoch 22/30\n",
            "\u001b[1m136/136\u001b[0m \u001b[32m━━━━━━━━━━━━━━━━━━━━\u001b[0m\u001b[37m\u001b[0m \u001b[1m1s\u001b[0m 5ms/step - loss: 6703.7275 - root_mean_squared_error: 81.8551 - val_loss: 9289.6514 - val_root_mean_squared_error: 96.3828\n",
            "Epoch 23/30\n",
            "\u001b[1m136/136\u001b[0m \u001b[32m━━━━━━━━━━━━━━━━━━━━\u001b[0m\u001b[37m\u001b[0m \u001b[1m1s\u001b[0m 5ms/step - loss: 6387.0771 - root_mean_squared_error: 79.8940 - val_loss: 9174.8018 - val_root_mean_squared_error: 95.7852\n",
            "Epoch 24/30\n",
            "\u001b[1m136/136\u001b[0m \u001b[32m━━━━━━━━━━━━━━━━━━━━\u001b[0m\u001b[37m\u001b[0m \u001b[1m1s\u001b[0m 5ms/step - loss: 6504.9854 - root_mean_squared_error: 80.6491 - val_loss: 9276.3584 - val_root_mean_squared_error: 96.3139\n",
            "Epoch 25/30\n",
            "\u001b[1m136/136\u001b[0m \u001b[32m━━━━━━━━━━━━━━━━━━━━\u001b[0m\u001b[37m\u001b[0m \u001b[1m1s\u001b[0m 5ms/step - loss: 6428.3750 - root_mean_squared_error: 80.1657 - val_loss: 9248.1309 - val_root_mean_squared_error: 96.1672\n",
            "Epoch 26/30\n",
            "\u001b[1m136/136\u001b[0m \u001b[32m━━━━━━━━━━━━━━━━━━━━\u001b[0m\u001b[37m\u001b[0m \u001b[1m1s\u001b[0m 5ms/step - loss: 6485.2129 - root_mean_squared_error: 80.5126 - val_loss: 9353.1709 - val_root_mean_squared_error: 96.7118\n",
            "Epoch 27/30\n",
            "\u001b[1m136/136\u001b[0m \u001b[32m━━━━━━━━━━━━━━━━━━━━\u001b[0m\u001b[37m\u001b[0m \u001b[1m1s\u001b[0m 5ms/step - loss: 6631.1416 - root_mean_squared_error: 81.4276 - val_loss: 9300.9082 - val_root_mean_squared_error: 96.4412\n",
            "Epoch 28/30\n",
            "\u001b[1m136/136\u001b[0m \u001b[32m━━━━━━━━━━━━━━━━━━━━\u001b[0m\u001b[37m\u001b[0m \u001b[1m1s\u001b[0m 5ms/step - loss: 6533.9121 - root_mean_squared_error: 80.8200 - val_loss: 9217.6553 - val_root_mean_squared_error: 96.0086\n",
            "Epoch 29/30\n",
            "\u001b[1m136/136\u001b[0m \u001b[32m━━━━━━━━━━━━━━━━━━━━\u001b[0m\u001b[37m\u001b[0m \u001b[1m1s\u001b[0m 4ms/step - loss: 6481.3530 - root_mean_squared_error: 80.5040 - val_loss: 9287.6025 - val_root_mean_squared_error: 96.3722\n",
            "Epoch 30/30\n",
            "\u001b[1m136/136\u001b[0m \u001b[32m━━━━━━━━━━━━━━━━━━━━\u001b[0m\u001b[37m\u001b[0m \u001b[1m1s\u001b[0m 4ms/step - loss: 6618.6025 - root_mean_squared_error: 81.3444 - val_loss: 9348.4434 - val_root_mean_squared_error: 96.6873\n"
          ]
        },
        {
          "data": {
            "image/png": "[encoded data removed]",
            "text/plain": [
              "<Figure size 640x480 with 1 Axes>"
            ]
          },
          "metadata": {},
          "output_type": "display_data"
        }
      ],
      "source": [
        "def plot_the_loss_curve(epochs, rmse, val_rmse):\n",
        "    plt.figure()\n",
        "    plt.xlabel(\"Epoch\")\n",
        "    plt.ylabel(\"Root Mean Squared Error\")\n",
        "\n",
        "    plt.plot(epochs, rmse, label=\"Training RMSE\")\n",
        "    plt.plot(epochs, val_rmse, label=\"Validation RMSE\")\n",
        "    plt.legend()\n",
        "\n",
        "    # Convert lists to numpy arrays\n",
        "    rmse_array = np.array(rmse)\n",
        "    val_rmse_array = np.array(val_rmse)\n",
        "\n",
        "    plt.ylim([rmse_array.min() * 0.94, val_rmse_array.max() * 1.05])\n",
        "    plt.show()\n",
        "\n",
        "# The following variables are the hyperparameters.\n",
        "learning_rate = 0.08\n",
        "epochs = 30\n",
        "batch_size = 100\n",
        "\n",
        "# Split the original training set into a reduced training set and a validation set.\n",
        "validation_split = 0.2\n",
        "\n",
        "# Identify the feature and the label.\n",
        "my_feature = \"median_income\"    # the median income on a specific city block.\n",
        "my_label = \"median_house_value\" # the median house value on a specific city block.\n",
        "# That is, you're going to create a model that predicts house value based\n",
        "# solely on the neighborhood's median income.\n",
        "\n",
        "def build_model(my_learning_rate):\n",
        "    # Create a simple linear regression model.\n",
        "    model = tf.keras.models.Sequential()\n",
        "\n",
        "    # Define the topography of the model.\n",
        "    model.add(tf.keras.layers.Dense(units=1, input_shape=(1,)))\n",
        "\n",
        "    # Compile the model topography into code that TensorFlow can efficiently\n",
        "    # execute. Configure training to minimize the model's mean squared error.\n",
        "    model.compile(optimizer=tf.keras.optimizers.RMSprop(learning_rate=my_learning_rate),\n",
        "                  loss=\"mean_squared_error\",\n",
        "                  metrics=[tf.keras.metrics.RootMeanSquaredError()])\n",
        "\n",
        "    return model\n",
        "\n",
        "def train_model(model, dataset, feature, label, epochs, batch_size, validation_split):\n",
        "    history = model.fit(\n",
        "        x=dataset[feature],\n",
        "        y=dataset[label],\n",
        "        batch_size=batch_size,\n",
        "        epochs=epochs,\n",
        "        validation_split=validation_split,\n",
        "        verbose=1)\n",
        "\n",
        "    epochs = history.epoch\n",
        "    hist = pd.DataFrame(history.history)\n",
        "    rmse = hist[\"root_mean_squared_error\"]\n",
        "    \n",
        "    return epochs, rmse, history.history\n",
        "\n",
        "# Invoke the functions to build and train the model.\n",
        "my_model = build_model(learning_rate)\n",
        "epochs, rmse, history = train_model(my_model, train_df, my_feature, my_label, epochs, batch_size, validation_split)\n",
        "\n",
        "plot_the_loss_curve(epochs, history[\"root_mean_squared_error\"], history[\"val_root_mean_squared_error\"])\n"
      ]
    },
    {
      "cell_type": "markdown",
      "metadata": {
        "id": "TKa11JK4Pm3f"
      },
      "source": [
        "## Task 2: Determine **why** the loss curves differ\n",
        "\n",
        "No matter how you split the training set and the validation set, the loss curves differ significantly. Evidently, the data in the training set isn't similar enough to the data in the validation set. Counterintuitive? Yes, but this problem is actually pretty common in machine learning.\n",
        "\n",
        "Your task is to determine **why** the loss curves aren't highly similar. As with most issues in machine learning, the problem is rooted in the data itself. To solve this mystery of why the training set and validation set aren't almost identical, write a line or two of [pandas code](https://colab.research.google.com/github/google/eng-edu/blob/main/ml/cc/exercises/pandas_dataframe_ultraquick_tutorial.ipynb?utm_source=validation-colab&utm_medium=colab&utm_campaign=colab-external&utm_content=pandas_tf2-colab&hl=en) in the following code cell.  Here are a couple of hints:\n",
        "\n",
        "  * The previous code cell split the original training set into:\n",
        "    * a reduced training set (the original training set - the validation set)\n",
        "    * the validation set\n",
        "  * By default, the pandas [`head`](https://pandas.pydata.org/pandas-docs/stable/reference/api/pandas.DataFrame.head.html) method outputs the *first* 5 rows of the DataFrame. To see more of the training set, specify the `n` argument to `head` and assign a large positive integer to `n`."
      ]
    },
    {
      "cell_type": "code",
      "execution_count": 9,
      "metadata": {
        "cellView": "form",
        "id": "EnNvkFwwK8WY"
      },
      "outputs": [
        {
          "data": {
            "text/html": [
              "<div>\n",
              "<style scoped>\n",
              "    .dataframe tbody tr th:only-of-type {\n",
              "        vertical-align: middle;\n",
              "    }\n",
              "\n",
              "    .dataframe tbody tr th {\n",
              "        vertical-align: top;\n",
              "    }\n",
              "\n",
              "    .dataframe thead th {\n",
              "        text-align: right;\n",
              "    }\n",
              "</style>\n",
              "<table border=\"1\" class=\"dataframe\">\n",
              "  <thead>\n",
              "    <tr style=\"text-align: right;\">\n",
              "      <th></th>\n",
              "      <th>longitude</th>\n",
              "      <th>latitude</th>\n",
              "      <th>housing_median_age</th>\n",
              "      <th>total_rooms</th>\n",
              "      <th>total_bedrooms</th>\n",
              "      <th>population</th>\n",
              "      <th>households</th>\n",
              "      <th>median_income</th>\n",
              "      <th>median_house_value</th>\n",
              "    </tr>\n",
              "  </thead>\n",
              "  <tbody>\n",
              "    <tr>\n",
              "      <th>0</th>\n",
              "      <td>-114.3</td>\n",
              "      <td>34.2</td>\n",
              "      <td>15.0</td>\n",
              "      <td>5612.0</td>\n",
              "      <td>1283.0</td>\n",
              "      <td>1015.0</td>\n",
              "      <td>472.0</td>\n",
              "      <td>1.5</td>\n",
              "      <td>66.9</td>\n",
              "    </tr>\n",
              "    <tr>\n",
              "      <th>1</th>\n",
              "      <td>-114.5</td>\n",
              "      <td>34.4</td>\n",
              "      <td>19.0</td>\n",
              "      <td>7650.0</td>\n",
              "      <td>1901.0</td>\n",
              "      <td>1129.0</td>\n",
              "      <td>463.0</td>\n",
              "      <td>1.8</td>\n",
              "      <td>80.1</td>\n",
              "    </tr>\n",
              "    <tr>\n",
              "      <th>2</th>\n",
              "      <td>-114.6</td>\n",
              "      <td>33.7</td>\n",
              "      <td>17.0</td>\n",
              "      <td>720.0</td>\n",
              "      <td>174.0</td>\n",
              "      <td>333.0</td>\n",
              "      <td>117.0</td>\n",
              "      <td>1.7</td>\n",
              "      <td>85.7</td>\n",
              "    </tr>\n",
              "    <tr>\n",
              "      <th>3</th>\n",
              "      <td>-114.6</td>\n",
              "      <td>33.6</td>\n",
              "      <td>14.0</td>\n",
              "      <td>1501.0</td>\n",
              "      <td>337.0</td>\n",
              "      <td>515.0</td>\n",
              "      <td>226.0</td>\n",
              "      <td>3.2</td>\n",
              "      <td>73.4</td>\n",
              "    </tr>\n",
              "    <tr>\n",
              "      <th>4</th>\n",
              "      <td>-114.6</td>\n",
              "      <td>33.6</td>\n",
              "      <td>20.0</td>\n",
              "      <td>1454.0</td>\n",
              "      <td>326.0</td>\n",
              "      <td>624.0</td>\n",
              "      <td>262.0</td>\n",
              "      <td>1.9</td>\n",
              "      <td>65.5</td>\n",
              "    </tr>\n",
              "    <tr>\n",
              "      <th>...</th>\n",
              "      <td>...</td>\n",
              "      <td>...</td>\n",
              "      <td>...</td>\n",
              "      <td>...</td>\n",
              "      <td>...</td>\n",
              "      <td>...</td>\n",
              "      <td>...</td>\n",
              "      <td>...</td>\n",
              "      <td>...</td>\n",
              "    </tr>\n",
              "    <tr>\n",
              "      <th>995</th>\n",
              "      <td>-117.1</td>\n",
              "      <td>32.5</td>\n",
              "      <td>8.0</td>\n",
              "      <td>6533.0</td>\n",
              "      <td>1217.0</td>\n",
              "      <td>4797.0</td>\n",
              "      <td>1177.0</td>\n",
              "      <td>4.0</td>\n",
              "      <td>144.4</td>\n",
              "    </tr>\n",
              "    <tr>\n",
              "      <th>996</th>\n",
              "      <td>-117.1</td>\n",
              "      <td>34.6</td>\n",
              "      <td>6.0</td>\n",
              "      <td>5110.0</td>\n",
              "      <td>1044.0</td>\n",
              "      <td>1938.0</td>\n",
              "      <td>724.0</td>\n",
              "      <td>3.2</td>\n",
              "      <td>112.8</td>\n",
              "    </tr>\n",
              "    <tr>\n",
              "      <th>997</th>\n",
              "      <td>-117.1</td>\n",
              "      <td>34.2</td>\n",
              "      <td>22.0</td>\n",
              "      <td>4397.0</td>\n",
              "      <td>931.0</td>\n",
              "      <td>1145.0</td>\n",
              "      <td>445.0</td>\n",
              "      <td>4.5</td>\n",
              "      <td>108.4</td>\n",
              "    </tr>\n",
              "    <tr>\n",
              "      <th>998</th>\n",
              "      <td>-117.1</td>\n",
              "      <td>34.0</td>\n",
              "      <td>24.0</td>\n",
              "      <td>4144.0</td>\n",
              "      <td>826.0</td>\n",
              "      <td>2127.0</td>\n",
              "      <td>772.0</td>\n",
              "      <td>2.5</td>\n",
              "      <td>96.0</td>\n",
              "    </tr>\n",
              "    <tr>\n",
              "      <th>999</th>\n",
              "      <td>-117.1</td>\n",
              "      <td>33.6</td>\n",
              "      <td>6.0</td>\n",
              "      <td>1868.0</td>\n",
              "      <td>289.0</td>\n",
              "      <td>750.0</td>\n",
              "      <td>247.0</td>\n",
              "      <td>4.4</td>\n",
              "      <td>307.6</td>\n",
              "    </tr>\n",
              "  </tbody>\n",
              "</table>\n",
              "<p>1000 rows × 9 columns</p>\n",
              "</div>"
            ],
            "text/plain": [
              "     longitude  latitude  housing_median_age  total_rooms  total_bedrooms  \\\n",
              "0       -114.3      34.2                15.0       5612.0          1283.0   \n",
              "1       -114.5      34.4                19.0       7650.0          1901.0   \n",
              "2       -114.6      33.7                17.0        720.0           174.0   \n",
              "3       -114.6      33.6                14.0       1501.0           337.0   \n",
              "4       -114.6      33.6                20.0       1454.0           326.0   \n",
              "..         ...       ...                 ...          ...             ...   \n",
              "995     -117.1      32.5                 8.0       6533.0          1217.0   \n",
              "996     -117.1      34.6                 6.0       5110.0          1044.0   \n",
              "997     -117.1      34.2                22.0       4397.0           931.0   \n",
              "998     -117.1      34.0                24.0       4144.0           826.0   \n",
              "999     -117.1      33.6                 6.0       1868.0           289.0   \n",
              "\n",
              "     population  households  median_income  median_house_value  \n",
              "0        1015.0       472.0            1.5                66.9  \n",
              "1        1129.0       463.0            1.8                80.1  \n",
              "2         333.0       117.0            1.7                85.7  \n",
              "3         515.0       226.0            3.2                73.4  \n",
              "4         624.0       262.0            1.9                65.5  \n",
              "..          ...         ...            ...                 ...  \n",
              "995      4797.0      1177.0            4.0               144.4  \n",
              "996      1938.0       724.0            3.2               112.8  \n",
              "997      1145.0       445.0            4.5               108.4  \n",
              "998      2127.0       772.0            2.5                96.0  \n",
              "999       750.0       247.0            4.4               307.6  \n",
              "\n",
              "[1000 rows x 9 columns]"
            ]
          },
          "execution_count": 9,
          "metadata": {},
          "output_type": "execute_result"
        }
      ],
      "source": [
        "#@title Double-click for a possible solution to Task 2.\n",
        "\n",
        "# Examine examples 0 through 4 and examples 995 through 999\n",
        "# of the training set\n",
        "train_df.head(n=1000)\n",
        "\n",
        "# The original training set is sorted by longitude.\n",
        "# Apparently, longitude influences the relationship of\n",
        "# median_income to median_house_value."
      ]
    },
    {
      "cell_type": "markdown",
      "metadata": {
        "id": "rw4xI1ZEckI8"
      },
      "source": [
        "## Task 3. Fix the problem\n",
        "\n",
        "To fix the problem, shuffle the examples in the training set before splitting the examples into a training set and validation set. To do so, take the following steps:\n",
        "\n",
        "1. Shuffle the data in the training set by adding the following line anywhere before you call `train_model` (in the code cell associated with Task 1):\n",
        "\n",
        "```\n",
        "  shuffled_train_df = train_df.reindex(np.random.permutation(train_df.index))\n",
        "```                                    \n",
        "\n",
        "2. Pass `shuffled_train_df` (instead of `train_df`) as the second argument to `train_model` (in the code call associated with Task 1) so that the call becomes as follows:\n",
        "\n",
        "```\n",
        "  epochs, rmse, history = train_model(my_model, shuffled_train_df, my_feature,\n",
        "                                      my_label, epochs, batch_size,\n",
        "                                      validation_split)\n",
        "```"
      ]
    },
    {
      "cell_type": "code",
      "execution_count": 10,
      "metadata": {
        "cellView": "form",
        "id": "ncODhpv0h-LG"
      },
      "outputs": [
        {
          "name": "stdout",
          "output_type": "stream",
          "text": [
            "Epoch 1/70\n"
          ]
        },
        {
          "name": "stderr",
          "output_type": "stream",
          "text": [
            "d:\\PROJECTS\\Personal Projects\\personal_projects\\personal_projects\\.conda\\Lib\\site-packages\\keras\\src\\layers\\core\\dense.py:87: UserWarning: Do not pass an `input_shape`/`input_dim` argument to a layer. When using Sequential models, prefer using an `Input(shape)` object as the first layer in the model instead.\n",
            "  super().__init__(activity_regularizer=activity_regularizer, **kwargs)\n"
          ]
        },
        {
          "name": "stdout",
          "output_type": "stream",
          "text": [
            "\u001b[1m136/136\u001b[0m \u001b[32m━━━━━━━━━━━━━━━━━━━━\u001b[0m\u001b[37m\u001b[0m \u001b[1m3s\u001b[0m 12ms/step - loss: 50615.8125 - root_mean_squared_error: 224.8795 - val_loss: 34501.2773 - val_root_mean_squared_error: 185.7452\n",
            "Epoch 2/70\n",
            "\u001b[1m136/136\u001b[0m \u001b[32m━━━━━━━━━━━━━━━━━━━━\u001b[0m\u001b[37m\u001b[0m \u001b[1m1s\u001b[0m 5ms/step - loss: 30842.4375 - root_mean_squared_error: 175.4903 - val_loss: 19101.3828 - val_root_mean_squared_error: 138.2077\n",
            "Epoch 3/70\n",
            "\u001b[1m136/136\u001b[0m \u001b[32m━━━━━━━━━━━━━━━━━━━━\u001b[0m\u001b[37m\u001b[0m \u001b[1m1s\u001b[0m 4ms/step - loss: 16825.8770 - root_mean_squared_error: 129.5453 - val_loss: 10045.5576 - val_root_mean_squared_error: 100.2275\n",
            "Epoch 4/70\n",
            "\u001b[1m136/136\u001b[0m \u001b[32m━━━━━━━━━━━━━━━━━━━━\u001b[0m\u001b[37m\u001b[0m \u001b[1m1s\u001b[0m 4ms/step - loss: 9046.8965 - root_mean_squared_error: 95.0723 - val_loss: 6901.7051 - val_root_mean_squared_error: 83.0765\n",
            "Epoch 5/70\n",
            "\u001b[1m136/136\u001b[0m \u001b[32m━━━━━━━━━━━━━━━━━━━━\u001b[0m\u001b[37m\u001b[0m \u001b[1m1s\u001b[0m 5ms/step - loss: 7113.9580 - root_mean_squared_error: 84.3179 - val_loss: 6828.5640 - val_root_mean_squared_error: 82.6351\n",
            "Epoch 6/70\n",
            "\u001b[1m136/136\u001b[0m \u001b[32m━━━━━━━━━━━━━━━━━━━━\u001b[0m\u001b[37m\u001b[0m \u001b[1m1s\u001b[0m 4ms/step - loss: 7028.2964 - root_mean_squared_error: 83.8289 - val_loss: 6831.9473 - val_root_mean_squared_error: 82.6556\n",
            "Epoch 7/70\n",
            "\u001b[1m136/136\u001b[0m \u001b[32m━━━━━━━━━━━━━━━━━━━━\u001b[0m\u001b[37m\u001b[0m \u001b[1m1s\u001b[0m 5ms/step - loss: 6980.2500 - root_mean_squared_error: 83.5355 - val_loss: 6829.0454 - val_root_mean_squared_error: 82.6380\n",
            "Epoch 8/70\n",
            "\u001b[1m136/136\u001b[0m \u001b[32m━━━━━━━━━━━━━━━━━━━━\u001b[0m\u001b[37m\u001b[0m \u001b[1m1s\u001b[0m 6ms/step - loss: 7012.2114 - root_mean_squared_error: 83.7291 - val_loss: 6835.6226 - val_root_mean_squared_error: 82.6778\n",
            "Epoch 9/70\n",
            "\u001b[1m136/136\u001b[0m \u001b[32m━━━━━━━━━━━━━━━━━━━━\u001b[0m\u001b[37m\u001b[0m \u001b[1m1s\u001b[0m 5ms/step - loss: 6904.2104 - root_mean_squared_error: 83.0841 - val_loss: 6829.2563 - val_root_mean_squared_error: 82.6393\n",
            "Epoch 10/70\n",
            "\u001b[1m136/136\u001b[0m \u001b[32m━━━━━━━━━━━━━━━━━━━━\u001b[0m\u001b[37m\u001b[0m \u001b[1m1s\u001b[0m 4ms/step - loss: 7329.5107 - root_mean_squared_error: 85.5919 - val_loss: 6828.2251 - val_root_mean_squared_error: 82.6331\n",
            "Epoch 11/70\n",
            "\u001b[1m136/136\u001b[0m \u001b[32m━━━━━━━━━━━━━━━━━━━━\u001b[0m\u001b[37m\u001b[0m \u001b[1m1s\u001b[0m 4ms/step - loss: 7018.7480 - root_mean_squared_error: 83.7767 - val_loss: 6827.0488 - val_root_mean_squared_error: 82.6260\n",
            "Epoch 12/70\n",
            "\u001b[1m136/136\u001b[0m \u001b[32m━━━━━━━━━━━━━━━━━━━━\u001b[0m\u001b[37m\u001b[0m \u001b[1m1s\u001b[0m 4ms/step - loss: 7011.5713 - root_mean_squared_error: 83.7284 - val_loss: 6828.1396 - val_root_mean_squared_error: 82.6326\n",
            "Epoch 13/70\n",
            "\u001b[1m136/136\u001b[0m \u001b[32m━━━━━━━━━━━━━━━━━━━━\u001b[0m\u001b[37m\u001b[0m \u001b[1m1s\u001b[0m 4ms/step - loss: 6838.9941 - root_mean_squared_error: 82.6837 - val_loss: 6853.1323 - val_root_mean_squared_error: 82.7836\n",
            "Epoch 14/70\n",
            "\u001b[1m136/136\u001b[0m \u001b[32m━━━━━━━━━━━━━━━━━━━━\u001b[0m\u001b[37m\u001b[0m \u001b[1m1s\u001b[0m 6ms/step - loss: 7111.5078 - root_mean_squared_error: 84.3032 - val_loss: 6829.2070 - val_root_mean_squared_error: 82.6390\n",
            "Epoch 15/70\n",
            "\u001b[1m136/136\u001b[0m \u001b[32m━━━━━━━━━━━━━━━━━━━━\u001b[0m\u001b[37m\u001b[0m \u001b[1m1s\u001b[0m 6ms/step - loss: 6851.7651 - root_mean_squared_error: 82.7649 - val_loss: 6834.2305 - val_root_mean_squared_error: 82.6694\n",
            "Epoch 16/70\n",
            "\u001b[1m136/136\u001b[0m \u001b[32m━━━━━━━━━━━━━━━━━━━━\u001b[0m\u001b[37m\u001b[0m \u001b[1m1s\u001b[0m 7ms/step - loss: 7038.6328 - root_mean_squared_error: 83.8934 - val_loss: 6836.6470 - val_root_mean_squared_error: 82.6840\n",
            "Epoch 17/70\n",
            "\u001b[1m136/136\u001b[0m \u001b[32m━━━━━━━━━━━━━━━━━━━━\u001b[0m\u001b[37m\u001b[0m \u001b[1m1s\u001b[0m 5ms/step - loss: 7205.3491 - root_mean_squared_error: 84.8637 - val_loss: 6826.7236 - val_root_mean_squared_error: 82.6240\n",
            "Epoch 18/70\n",
            "\u001b[1m136/136\u001b[0m \u001b[32m━━━━━━━━━━━━━━━━━━━━\u001b[0m\u001b[37m\u001b[0m \u001b[1m1s\u001b[0m 5ms/step - loss: 7079.7168 - root_mean_squared_error: 84.1357 - val_loss: 6829.6924 - val_root_mean_squared_error: 82.6420\n",
            "Epoch 19/70\n",
            "\u001b[1m136/136\u001b[0m \u001b[32m━━━━━━━━━━━━━━━━━━━━\u001b[0m\u001b[37m\u001b[0m \u001b[1m1s\u001b[0m 4ms/step - loss: 7052.5547 - root_mean_squared_error: 83.9729 - val_loss: 6828.5068 - val_root_mean_squared_error: 82.6348\n",
            "Epoch 20/70\n",
            "\u001b[1m136/136\u001b[0m \u001b[32m━━━━━━━━━━━━━━━━━━━━\u001b[0m\u001b[37m\u001b[0m \u001b[1m1s\u001b[0m 4ms/step - loss: 6914.7651 - root_mean_squared_error: 83.1409 - val_loss: 6829.8672 - val_root_mean_squared_error: 82.6430\n",
            "Epoch 21/70\n",
            "\u001b[1m136/136\u001b[0m \u001b[32m━━━━━━━━━━━━━━━━━━━━\u001b[0m\u001b[37m\u001b[0m \u001b[1m1s\u001b[0m 4ms/step - loss: 7053.6587 - root_mean_squared_error: 83.9767 - val_loss: 6829.1851 - val_root_mean_squared_error: 82.6389\n",
            "Epoch 22/70\n",
            "\u001b[1m136/136\u001b[0m \u001b[32m━━━━━━━━━━━━━━━━━━━━\u001b[0m\u001b[37m\u001b[0m \u001b[1m1s\u001b[0m 5ms/step - loss: 7112.7905 - root_mean_squared_error: 84.3344 - val_loss: 6828.2021 - val_root_mean_squared_error: 82.6329\n",
            "Epoch 23/70\n",
            "\u001b[1m136/136\u001b[0m \u001b[32m━━━━━━━━━━━━━━━━━━━━\u001b[0m\u001b[37m\u001b[0m \u001b[1m1s\u001b[0m 3ms/step - loss: 7179.8604 - root_mean_squared_error: 84.7177 - val_loss: 6829.4175 - val_root_mean_squared_error: 82.6403\n",
            "Epoch 24/70\n",
            "\u001b[1m136/136\u001b[0m \u001b[32m━━━━━━━━━━━━━━━━━━━━\u001b[0m\u001b[37m\u001b[0m \u001b[1m1s\u001b[0m 4ms/step - loss: 6980.7441 - root_mean_squared_error: 83.5464 - val_loss: 6832.6577 - val_root_mean_squared_error: 82.6599\n",
            "Epoch 25/70\n",
            "\u001b[1m136/136\u001b[0m \u001b[32m━━━━━━━━━━━━━━━━━━━━\u001b[0m\u001b[37m\u001b[0m \u001b[1m1s\u001b[0m 4ms/step - loss: 7028.8599 - root_mean_squared_error: 83.8195 - val_loss: 6829.2412 - val_root_mean_squared_error: 82.6392\n",
            "Epoch 26/70\n",
            "\u001b[1m136/136\u001b[0m \u001b[32m━━━━━━━━━━━━━━━━━━━━\u001b[0m\u001b[37m\u001b[0m \u001b[1m1s\u001b[0m 4ms/step - loss: 7064.2837 - root_mean_squared_error: 84.0458 - val_loss: 6826.8315 - val_root_mean_squared_error: 82.6246\n",
            "Epoch 27/70\n",
            "\u001b[1m136/136\u001b[0m \u001b[32m━━━━━━━━━━━━━━━━━━━━\u001b[0m\u001b[37m\u001b[0m \u001b[1m1s\u001b[0m 3ms/step - loss: 6960.3394 - root_mean_squared_error: 83.4213 - val_loss: 6834.8140 - val_root_mean_squared_error: 82.6729\n",
            "Epoch 28/70\n",
            "\u001b[1m136/136\u001b[0m \u001b[32m━━━━━━━━━━━━━━━━━━━━\u001b[0m\u001b[37m\u001b[0m \u001b[1m1s\u001b[0m 4ms/step - loss: 6859.0063 - root_mean_squared_error: 82.8052 - val_loss: 6832.2847 - val_root_mean_squared_error: 82.6576\n",
            "Epoch 29/70\n",
            "\u001b[1m136/136\u001b[0m \u001b[32m━━━━━━━━━━━━━━━━━━━━\u001b[0m\u001b[37m\u001b[0m \u001b[1m1s\u001b[0m 4ms/step - loss: 7222.3071 - root_mean_squared_error: 84.9787 - val_loss: 6826.9604 - val_root_mean_squared_error: 82.6254\n",
            "Epoch 30/70\n",
            "\u001b[1m136/136\u001b[0m \u001b[32m━━━━━━━━━━━━━━━━━━━━\u001b[0m\u001b[37m\u001b[0m \u001b[1m1s\u001b[0m 6ms/step - loss: 7066.2271 - root_mean_squared_error: 84.0561 - val_loss: 6828.5898 - val_root_mean_squared_error: 82.6353\n",
            "Epoch 31/70\n",
            "\u001b[1m136/136\u001b[0m \u001b[32m━━━━━━━━━━━━━━━━━━━━\u001b[0m\u001b[37m\u001b[0m \u001b[1m1s\u001b[0m 4ms/step - loss: 7141.5200 - root_mean_squared_error: 84.5042 - val_loss: 6831.5347 - val_root_mean_squared_error: 82.6531\n",
            "Epoch 32/70\n",
            "\u001b[1m136/136\u001b[0m \u001b[32m━━━━━━━━━━━━━━━━━━━━\u001b[0m\u001b[37m\u001b[0m \u001b[1m1s\u001b[0m 4ms/step - loss: 7043.4863 - root_mean_squared_error: 83.9170 - val_loss: 6827.7842 - val_root_mean_squared_error: 82.6304\n",
            "Epoch 33/70\n",
            "\u001b[1m136/136\u001b[0m \u001b[32m━━━━━━━━━━━━━━━━━━━━\u001b[0m\u001b[37m\u001b[0m \u001b[1m1s\u001b[0m 6ms/step - loss: 7032.0283 - root_mean_squared_error: 83.8528 - val_loss: 6832.8745 - val_root_mean_squared_error: 82.6612\n",
            "Epoch 34/70\n",
            "\u001b[1m136/136\u001b[0m \u001b[32m━━━━━━━━━━━━━━━━━━━━\u001b[0m\u001b[37m\u001b[0m \u001b[1m1s\u001b[0m 4ms/step - loss: 7089.0962 - root_mean_squared_error: 84.1788 - val_loss: 6827.7354 - val_root_mean_squared_error: 82.6301\n",
            "Epoch 35/70\n",
            "\u001b[1m136/136\u001b[0m \u001b[32m━━━━━━━━━━━━━━━━━━━━\u001b[0m\u001b[37m\u001b[0m \u001b[1m1s\u001b[0m 4ms/step - loss: 7094.5923 - root_mean_squared_error: 84.2198 - val_loss: 6836.3887 - val_root_mean_squared_error: 82.6825\n",
            "Epoch 36/70\n",
            "\u001b[1m136/136\u001b[0m \u001b[32m━━━━━━━━━━━━━━━━━━━━\u001b[0m\u001b[37m\u001b[0m \u001b[1m1s\u001b[0m 5ms/step - loss: 7194.0698 - root_mean_squared_error: 84.8139 - val_loss: 6828.8716 - val_root_mean_squared_error: 82.6370\n",
            "Epoch 37/70\n",
            "\u001b[1m136/136\u001b[0m \u001b[32m━━━━━━━━━━━━━━━━━━━━\u001b[0m\u001b[37m\u001b[0m \u001b[1m1s\u001b[0m 5ms/step - loss: 6979.5317 - root_mean_squared_error: 83.5395 - val_loss: 6830.9492 - val_root_mean_squared_error: 82.6496\n",
            "Epoch 38/70\n",
            "\u001b[1m136/136\u001b[0m \u001b[32m━━━━━━━━━━━━━━━━━━━━\u001b[0m\u001b[37m\u001b[0m \u001b[1m1s\u001b[0m 3ms/step - loss: 7107.8813 - root_mean_squared_error: 84.2973 - val_loss: 6828.3311 - val_root_mean_squared_error: 82.6337\n",
            "Epoch 39/70\n",
            "\u001b[1m136/136\u001b[0m \u001b[32m━━━━━━━━━━━━━━━━━━━━\u001b[0m\u001b[37m\u001b[0m \u001b[1m1s\u001b[0m 4ms/step - loss: 7080.8340 - root_mean_squared_error: 84.1359 - val_loss: 6828.9419 - val_root_mean_squared_error: 82.6374\n",
            "Epoch 40/70\n",
            "\u001b[1m136/136\u001b[0m \u001b[32m━━━━━━━━━━━━━━━━━━━━\u001b[0m\u001b[37m\u001b[0m \u001b[1m1s\u001b[0m 5ms/step - loss: 6776.6470 - root_mean_squared_error: 82.3043 - val_loss: 6840.2090 - val_root_mean_squared_error: 82.7056\n",
            "Epoch 41/70\n",
            "\u001b[1m136/136\u001b[0m \u001b[32m━━━━━━━━━━━━━━━━━━━━\u001b[0m\u001b[37m\u001b[0m \u001b[1m1s\u001b[0m 3ms/step - loss: 6971.5557 - root_mean_squared_error: 83.4919 - val_loss: 6827.6504 - val_root_mean_squared_error: 82.6296\n",
            "Epoch 42/70\n",
            "\u001b[1m136/136\u001b[0m \u001b[32m━━━━━━━━━━━━━━━━━━━━\u001b[0m\u001b[37m\u001b[0m \u001b[1m1s\u001b[0m 3ms/step - loss: 7164.0703 - root_mean_squared_error: 84.6340 - val_loss: 6827.1543 - val_root_mean_squared_error: 82.6266\n",
            "Epoch 43/70\n",
            "\u001b[1m136/136\u001b[0m \u001b[32m━━━━━━━━━━━━━━━━━━━━\u001b[0m\u001b[37m\u001b[0m \u001b[1m1s\u001b[0m 3ms/step - loss: 7079.1440 - root_mean_squared_error: 84.1337 - val_loss: 6830.9619 - val_root_mean_squared_error: 82.6496\n",
            "Epoch 44/70\n",
            "\u001b[1m136/136\u001b[0m \u001b[32m━━━━━━━━━━━━━━━━━━━━\u001b[0m\u001b[37m\u001b[0m \u001b[1m1s\u001b[0m 4ms/step - loss: 6980.9307 - root_mean_squared_error: 83.5396 - val_loss: 6833.0947 - val_root_mean_squared_error: 82.6625\n",
            "Epoch 45/70\n",
            "\u001b[1m136/136\u001b[0m \u001b[32m━━━━━━━━━━━━━━━━━━━━\u001b[0m\u001b[37m\u001b[0m \u001b[1m1s\u001b[0m 4ms/step - loss: 7088.1270 - root_mean_squared_error: 84.1841 - val_loss: 6835.3037 - val_root_mean_squared_error: 82.6759\n",
            "Epoch 46/70\n",
            "\u001b[1m136/136\u001b[0m \u001b[32m━━━━━━━━━━━━━━━━━━━━\u001b[0m\u001b[37m\u001b[0m \u001b[1m1s\u001b[0m 4ms/step - loss: 7114.4028 - root_mean_squared_error: 84.3405 - val_loss: 6827.0688 - val_root_mean_squared_error: 82.6261\n",
            "Epoch 47/70\n",
            "\u001b[1m136/136\u001b[0m \u001b[32m━━━━━━━━━━━━━━━━━━━━\u001b[0m\u001b[37m\u001b[0m \u001b[1m1s\u001b[0m 4ms/step - loss: 7043.4800 - root_mean_squared_error: 83.9169 - val_loss: 6827.7065 - val_root_mean_squared_error: 82.6299\n",
            "Epoch 48/70\n",
            "\u001b[1m136/136\u001b[0m \u001b[32m━━━━━━━━━━━━━━━━━━━━\u001b[0m\u001b[37m\u001b[0m \u001b[1m1s\u001b[0m 4ms/step - loss: 7049.2700 - root_mean_squared_error: 83.9521 - val_loss: 6827.3765 - val_root_mean_squared_error: 82.6279\n",
            "Epoch 49/70\n",
            "\u001b[1m136/136\u001b[0m \u001b[32m━━━━━━━━━━━━━━━━━━━━\u001b[0m\u001b[37m\u001b[0m \u001b[1m1s\u001b[0m 4ms/step - loss: 7095.0469 - root_mean_squared_error: 84.2279 - val_loss: 6833.6143 - val_root_mean_squared_error: 82.6657\n",
            "Epoch 50/70\n",
            "\u001b[1m136/136\u001b[0m \u001b[32m━━━━━━━━━━━━━━━━━━━━\u001b[0m\u001b[37m\u001b[0m \u001b[1m1s\u001b[0m 4ms/step - loss: 7064.3833 - root_mean_squared_error: 84.0422 - val_loss: 6828.9868 - val_root_mean_squared_error: 82.6377\n",
            "Epoch 51/70\n",
            "\u001b[1m136/136\u001b[0m \u001b[32m━━━━━━━━━━━━━━━━━━━━\u001b[0m\u001b[37m\u001b[0m \u001b[1m1s\u001b[0m 4ms/step - loss: 6861.3037 - root_mean_squared_error: 82.8283 - val_loss: 6835.1841 - val_root_mean_squared_error: 82.6752\n",
            "Epoch 52/70\n",
            "\u001b[1m136/136\u001b[0m \u001b[32m━━━━━━━━━━━━━━━━━━━━\u001b[0m\u001b[37m\u001b[0m \u001b[1m1s\u001b[0m 4ms/step - loss: 7077.7075 - root_mean_squared_error: 84.1186 - val_loss: 6828.7075 - val_root_mean_squared_error: 82.6360\n",
            "Epoch 53/70\n",
            "\u001b[1m136/136\u001b[0m \u001b[32m━━━━━━━━━━━━━━━━━━━━\u001b[0m\u001b[37m\u001b[0m \u001b[1m1s\u001b[0m 4ms/step - loss: 7186.9199 - root_mean_squared_error: 84.7566 - val_loss: 6829.0757 - val_root_mean_squared_error: 82.6382\n",
            "Epoch 54/70\n",
            "\u001b[1m136/136\u001b[0m \u001b[32m━━━━━━━━━━━━━━━━━━━━\u001b[0m\u001b[37m\u001b[0m \u001b[1m1s\u001b[0m 3ms/step - loss: 7050.5854 - root_mean_squared_error: 83.9425 - val_loss: 6828.7046 - val_root_mean_squared_error: 82.6360\n",
            "Epoch 55/70\n",
            "\u001b[1m136/136\u001b[0m \u001b[32m━━━━━━━━━━━━━━━━━━━━\u001b[0m\u001b[37m\u001b[0m \u001b[1m1s\u001b[0m 4ms/step - loss: 7033.8032 - root_mean_squared_error: 83.8559 - val_loss: 6828.8784 - val_root_mean_squared_error: 82.6370\n",
            "Epoch 56/70\n",
            "\u001b[1m136/136\u001b[0m \u001b[32m━━━━━━━━━━━━━━━━━━━━\u001b[0m\u001b[37m\u001b[0m \u001b[1m1s\u001b[0m 4ms/step - loss: 7099.7168 - root_mean_squared_error: 84.2474 - val_loss: 6827.5117 - val_root_mean_squared_error: 82.6288\n",
            "Epoch 57/70\n",
            "\u001b[1m136/136\u001b[0m \u001b[32m━━━━━━━━━━━━━━━━━━━━\u001b[0m\u001b[37m\u001b[0m \u001b[1m1s\u001b[0m 3ms/step - loss: 7239.9893 - root_mean_squared_error: 85.0609 - val_loss: 6834.0083 - val_root_mean_squared_error: 82.6681\n",
            "Epoch 58/70\n",
            "\u001b[1m136/136\u001b[0m \u001b[32m━━━━━━━━━━━━━━━━━━━━\u001b[0m\u001b[37m\u001b[0m \u001b[1m1s\u001b[0m 6ms/step - loss: 7105.3765 - root_mean_squared_error: 84.2915 - val_loss: 6830.7441 - val_root_mean_squared_error: 82.6483\n",
            "Epoch 59/70\n",
            "\u001b[1m136/136\u001b[0m \u001b[32m━━━━━━━━━━━━━━━━━━━━\u001b[0m\u001b[37m\u001b[0m \u001b[1m1s\u001b[0m 4ms/step - loss: 7066.9321 - root_mean_squared_error: 84.0620 - val_loss: 6833.1465 - val_root_mean_squared_error: 82.6628\n",
            "Epoch 60/70\n",
            "\u001b[1m136/136\u001b[0m \u001b[32m━━━━━━━━━━━━━━━━━━━━\u001b[0m\u001b[37m\u001b[0m \u001b[1m1s\u001b[0m 4ms/step - loss: 7177.1777 - root_mean_squared_error: 84.7115 - val_loss: 6837.9541 - val_root_mean_squared_error: 82.6919\n",
            "Epoch 61/70\n",
            "\u001b[1m136/136\u001b[0m \u001b[32m━━━━━━━━━━━━━━━━━━━━\u001b[0m\u001b[37m\u001b[0m \u001b[1m1s\u001b[0m 4ms/step - loss: 7254.5864 - root_mean_squared_error: 85.1577 - val_loss: 6831.7734 - val_root_mean_squared_error: 82.6545\n",
            "Epoch 62/70\n",
            "\u001b[1m136/136\u001b[0m \u001b[32m━━━━━━━━━━━━━━━━━━━━\u001b[0m\u001b[37m\u001b[0m \u001b[1m1s\u001b[0m 4ms/step - loss: 6846.0381 - root_mean_squared_error: 82.7275 - val_loss: 6848.6016 - val_root_mean_squared_error: 82.7563\n",
            "Epoch 63/70\n",
            "\u001b[1m136/136\u001b[0m \u001b[32m━━━━━━━━━━━━━━━━━━━━\u001b[0m\u001b[37m\u001b[0m \u001b[1m1s\u001b[0m 5ms/step - loss: 6934.3521 - root_mean_squared_error: 83.2674 - val_loss: 6831.3584 - val_root_mean_squared_error: 82.6520\n",
            "Epoch 64/70\n",
            "\u001b[1m136/136\u001b[0m \u001b[32m━━━━━━━━━━━━━━━━━━━━\u001b[0m\u001b[37m\u001b[0m \u001b[1m1s\u001b[0m 5ms/step - loss: 6794.1963 - root_mean_squared_error: 82.3993 - val_loss: 6833.2065 - val_root_mean_squared_error: 82.6632\n",
            "Epoch 65/70\n",
            "\u001b[1m136/136\u001b[0m \u001b[32m━━━━━━━━━━━━━━━━━━━━\u001b[0m\u001b[37m\u001b[0m \u001b[1m1s\u001b[0m 4ms/step - loss: 7055.5894 - root_mean_squared_error: 83.9888 - val_loss: 6835.9136 - val_root_mean_squared_error: 82.6796\n",
            "Epoch 66/70\n",
            "\u001b[1m136/136\u001b[0m \u001b[32m━━━━━━━━━━━━━━━━━━━━\u001b[0m\u001b[37m\u001b[0m \u001b[1m1s\u001b[0m 5ms/step - loss: 7249.6392 - root_mean_squared_error: 85.1292 - val_loss: 6826.4902 - val_root_mean_squared_error: 82.6226\n",
            "Epoch 67/70\n",
            "\u001b[1m136/136\u001b[0m \u001b[32m━━━━━━━━━━━━━━━━━━━━\u001b[0m\u001b[37m\u001b[0m \u001b[1m1s\u001b[0m 4ms/step - loss: 7021.1318 - root_mean_squared_error: 83.7855 - val_loss: 6835.6143 - val_root_mean_squared_error: 82.6778\n",
            "Epoch 68/70\n",
            "\u001b[1m136/136\u001b[0m \u001b[32m━━━━━━━━━━━━━━━━━━━━\u001b[0m\u001b[37m\u001b[0m \u001b[1m1s\u001b[0m 4ms/step - loss: 7049.2847 - root_mean_squared_error: 83.9567 - val_loss: 6826.4663 - val_root_mean_squared_error: 82.6224\n",
            "Epoch 69/70\n",
            "\u001b[1m136/136\u001b[0m \u001b[32m━━━━━━━━━━━━━━━━━━━━\u001b[0m\u001b[37m\u001b[0m \u001b[1m1s\u001b[0m 4ms/step - loss: 7089.2007 - root_mean_squared_error: 84.1897 - val_loss: 6845.0161 - val_root_mean_squared_error: 82.7346\n",
            "Epoch 70/70\n",
            "\u001b[1m136/136\u001b[0m \u001b[32m━━━━━━━━━━━━━━━━━━━━\u001b[0m\u001b[37m\u001b[0m \u001b[1m1s\u001b[0m 4ms/step - loss: 7215.1338 - root_mean_squared_error: 84.9391 - val_loss: 6827.9893 - val_root_mean_squared_error: 82.6316\n"
          ]
        },
        {
          "data": {
            "image/png": "[encoded data removed]",
            "text/plain": [
              "<Figure size 640x480 with 1 Axes>"
            ]
          },
          "metadata": {},
          "output_type": "display_data"
        }
      ],
      "source": [
        "#@title Double-click to view the complete implementation.\n",
        "\n",
        "# The following variables are the hyperparameters.\n",
        "learning_rate = 0.08\n",
        "epochs = 70\n",
        "batch_size = 100\n",
        "\n",
        "# Split the original training set into a reduced training set and a\n",
        "# validation set.\n",
        "validation_split = 0.2\n",
        "\n",
        "# Identify the feature and the label.\n",
        "my_feature = \"median_income\"    # the median income on a specific city block.\n",
        "my_label = \"median_house_value\" # the median house value on a specific city block.\n",
        "# That is, you're going to create a model that predicts house value based\n",
        "# solely on the neighborhood's median income.\n",
        "\n",
        "# Shuffle the examples.\n",
        "shuffled_train_df = train_df.reindex(np.random.permutation(train_df.index))\n",
        "\n",
        "# Invoke the functions to build and train the model. Train on the shuffled\n",
        "# training set.\n",
        "my_model = build_model(learning_rate)\n",
        "epochs, rmse, history = train_model(my_model, shuffled_train_df, my_feature,\n",
        "                                    my_label, epochs, batch_size,\n",
        "                                    validation_split)\n",
        "\n",
        "plot_the_loss_curve(epochs, history[\"root_mean_squared_error\"],\n",
        "                    history[\"val_root_mean_squared_error\"])"
      ]
    },
    {
      "cell_type": "markdown",
      "metadata": {
        "id": "tKN239_miW8C"
      },
      "source": [
        "Experiment with `validation_split` to answer the following questions:\n",
        "\n",
        "* With the training set shuffled, is the final loss for the training set closer to the final loss for the validation set?  \n",
        "* At what range of values of `validation_split` do the final loss values for the training set and validation set diverge meaningfully?  Why?"
      ]
    },
    {
      "cell_type": "markdown",
      "metadata": {},
      "source": [
        "# # Yes, after shuffling the original training set,\n",
        "# # the final loss for the training set and the\n",
        "# # validation set become much closer.\n",
        "\n",
        "# # If validation_split < 0.15,\n",
        "# the final loss values for the training set and\n",
        "# # validation set diverge meaningfully.  Apparently,\n",
        "# # the validation set no longer contains enough examples."
      ]
    },
    {
      "cell_type": "markdown",
      "metadata": {
        "id": "1PP-O8TOZOeo"
      },
      "source": [
        "## Task 4: Use the Test Dataset to Evaluate Your Model's Performance\n",
        "\n",
        "The test set usually acts as the ultimate judge of a model's quality. The test set can serve as an impartial judge because its examples haven't been used in training the model. Run the following code cell to evaluate the model with the test set:"
      ]
    },
    {
      "cell_type": "code",
      "execution_count": 11,
      "metadata": {
        "id": "nd_Sw2cygOip"
      },
      "outputs": [
        {
          "name": "stdout",
          "output_type": "stream",
          "text": [
            "\u001b[1m30/30\u001b[0m \u001b[32m━━━━━━━━━━━━━━━━━━━━\u001b[0m\u001b[37m\u001b[0m \u001b[1m0s\u001b[0m 3ms/step - loss: 6578.6538 - root_mean_squared_error: 81.0568\n"
          ]
        }
      ],
      "source": [
        "x_test = test_df[my_feature]\n",
        "y_test = test_df[my_label]\n",
        "\n",
        "results = my_model.evaluate(x_test, y_test, batch_size=batch_size)"
      ]
    },
    {
      "cell_type": "markdown",
      "metadata": {
        "id": "qoyQKvsjmV_A"
      },
      "source": [
        "Compare the root mean squared error of the model when evaluated on each of the three datasets:\n",
        "\n",
        "* training set: look for `root_mean_squared_error` in the final training epoch.\n",
        "* validation set: look for `val_root_mean_squared_error` in the final training epoch.\n",
        "* test set: run the preceding code cell and examine the `root_mean_squared_error`.\n",
        "\n",
        "Ideally, the root mean squared error of all three sets should be similar. Are they?"
      ]
    },
    {
      "cell_type": "markdown",
      "metadata": {},
      "source": [
        "In our experiments, yes, the rmse values\n",
        "were similar enough."
      ]
    }
  ],
  "metadata": {
    "colab": {
      "name": "Validation and Test Sets.ipynb",
      "private_outputs": true,
      "provenance": []
    },
    "kernelspec": {
      "display_name": "Python 3",
      "name": "python3"
    },
    "language_info": {
      "codemirror_mode": {
        "name": "ipython",
        "version": 3
      },
      "file_extension": ".py",
      "mimetype": "text/x-python",
      "name": "python",
      "nbconvert_exporter": "python",
      "pygments_lexer": "ipython3",
      "version": "3.11.9"
    }
  },
  "nbformat": 4,
  "nbformat_minor": 0
}
